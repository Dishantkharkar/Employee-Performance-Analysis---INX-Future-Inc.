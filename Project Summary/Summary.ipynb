{
 "cells": [
  {
   "cell_type": "markdown",
   "metadata": {},
   "source": [
    "## **Employee Performance Analysis - INX Future Inc**"
   ]
  },
  {
   "cell_type": "markdown",
   "metadata": {},
   "source": [
    "* REP Name:\tDataMites™ Solutions Pvt Ltd\n",
    "* Venue Name:\topen Project\n",
    "* Exam Country:\tIndia\n",
    "* Assesment ID:\tE10901-PR2-V18\n",
    "* Module :\tCertified Data Scientist - Project\n",
    "* Language  :\tEnglish\n",
    "* Exam Format  :\tOpen Project- IABAC™ Project Submission\n",
    "* Candidate Name : Dishant Kharkar\n",
    "* Candidate Email: dishantkharkar9@gmail.com\n",
    "* Registered Trainer :\tAshok Kumar A\n",
    "* Project Assessment :\tIABAC™ "
   ]
  },
  {
   "cell_type": "markdown",
   "metadata": {},
   "source": []
  }
 ],
 "metadata": {
  "language_info": {
   "name": "python"
  }
 },
 "nbformat": 4,
 "nbformat_minor": 2
}
